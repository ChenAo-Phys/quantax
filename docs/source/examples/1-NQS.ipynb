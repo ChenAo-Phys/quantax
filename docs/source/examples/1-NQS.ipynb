{
 "cells": [
  {
   "cell_type": "markdown",
   "id": "26c27d95",
   "metadata": {},
   "source": [
    "# Solving the quantum many-body problem with artificial neural networks\n",
    "DOI: 10.1126/science.aag2302"
   ]
  }
 ],
 "metadata": {
  "language_info": {
   "name": "python"
  }
 },
 "nbformat": 4,
 "nbformat_minor": 5
}
