{
 "cells": [
  {
   "cell_type": "markdown",
   "id": "faa097af",
   "metadata": {},
   "source": [
    "# Generate samples\n",
    "\n",
    "In this tutorial, we will introduce how to use Quantax to generate samples.\n",
    "\n",
    "In the beginning, we prepare ground states of transverse-field Ising models from which we will generate samples."
   ]
  },
  {
   "cell_type": "code",
   "execution_count": null,
   "id": "d2b6b218",
   "metadata": {},
   "outputs": [],
   "source": [
    "import jax\n",
    "import jax.numpy as jnp\n",
    "import jax.random as jr\n",
    "import quantax as qtx\n",
    "import matplotlib.pyplot as plt\n",
    "\n",
    "lattice = qtx.sites.Square(4)\n",
    "\n",
    "H0 = qtx.operator.Ising(h=1.0)\n",
    "E0, wf0 = H0.diagonalize()\n",
    "state0 = qtx.state.DenseState(wf0)\n",
    "\n",
    "H1 = qtx.operator.Ising(h=3.0)\n",
    "E1, wf1 = H1.diagonalize()\n",
    "state1 = qtx.state.DenseState(wf1)\n",
    "\n",
    "H2 = qtx.operator.Ising(h=10.0)\n",
    "E2, wf2 = H2.diagonalize()\n",
    "state2 = qtx.state.DenseState(wf2)"
   ]
  },
  {
   "cell_type": "markdown",
   "id": "5cd5d0ea",
   "metadata": {},
   "source": [
    "## Exact sampler\n",
    "\n",
    "{py:class}`~quantax.sampler.ExactSampler` generates samples by sampling the full wavefunction. If the provided state is not a {py:class}`~quantax.state.DenseState`, it will generate a {py:class}`~quantax.state.DenseState` internally through forward pass. The sampler is defined below."
   ]
  },
  {
   "cell_type": "code",
   "execution_count": 2,
   "id": "e50fdfbd",
   "metadata": {},
   "outputs": [],
   "source": [
    "sampler0 = qtx.sampler.ExactSampler(state0, nsamples=1024)\n",
    "sampler1 = qtx.sampler.ExactSampler(state1, nsamples=1024)\n",
    "sampler2 = qtx.sampler.ExactSampler(state2, nsamples=1024)"
   ]
  },
  {
   "cell_type": "markdown",
   "id": "2bc17233",
   "metadata": {},
   "source": [
    "Now we can generate samples."
   ]
  },
  {
   "cell_type": "code",
   "execution_count": 3,
   "id": "a5da46ec",
   "metadata": {},
   "outputs": [
    {
     "name": "stdout",
     "output_type": "stream",
     "text": [
      "Samples(spins=Array([[-1, -1, -1, ..., -1, -1, -1],\n",
      "       [ 1,  1,  1, ...,  1,  1,  1],\n",
      "       [ 1,  1,  1, ...,  1,  1,  1],\n",
      "       ...,\n",
      "       [-1, -1, -1, ..., -1, -1, -1],\n",
      "       [ 1,  1,  1, ...,  1,  1,  1],\n",
      "       [ 1,  1,  1, ...,  1,  1,  1]], dtype=int8), psi=array([0.62184004, 0.62184002, 0.62184002, ..., 0.62184004, 0.62184002,\n",
      "       0.62184002], shape=(1024,)), state_internal=None, reweight_factor=Array([1., 1., 1., ..., 1., 1., 1.], dtype=float64))\n",
      "spins shape (1024, 16)\n",
      "psi shape (1024,)\n"
     ]
    }
   ],
   "source": [
    "samples0 = sampler0.sweep()\n",
    "samples1 = sampler1.sweep()\n",
    "samples2 = sampler2.sweep()\n",
    "\n",
    "print(samples0)\n",
    "print(\"spins shape\", samples0.spins.shape)\n",
    "print(\"psi shape\", samples0.psi.shape)"
   ]
  },
  {
   "cell_type": "markdown",
   "id": "d0edd7c5",
   "metadata": {},
   "source": [
    "The generated sample is a PyTree with 4 terms: `spins`, `psi`, `state_internal`, and `reweight_factor`. Beginners usually only need `spins` and `psi`, which correspond to the generated spin configurations $s$ and their wavefunctions $\\psi(s)$. The probability of samples is given by $|\\psi(s)|^2$\n",
    "\n",
    "Let's check how magnetization changes by looking at\n",
    "\n",
    "$$\n",
    "\\left< M^2 \\right> = \\left< \\left( \\frac{1}{N} \\sum_i \\sigma_i^z \\right)^2 \\right>.\n",
    "$$"
   ]
  },
  {
   "cell_type": "code",
   "execution_count": 4,
   "id": "a217974d",
   "metadata": {},
   "outputs": [
    {
     "name": "stdout",
     "output_type": "stream",
     "text": [
      "Exact magnetization for h=0.0: 0.9399276867036594\n",
      "Exact magnetization for h=1.0: 0.2938840311110153\n",
      "Exact magnetization for h=2.0: 0.07887022721918291\n",
      "Sampled magnetization for h=0.0: 0.9404144287109375\n",
      "Sampled magnetization for h=1.0: 0.2858734130859375\n",
      "Sampled magnetization for h=2.0: 0.0805816650390625\n"
     ]
    }
   ],
   "source": [
    "from quantax.operator import sigma_z\n",
    "\n",
    "N = lattice.N\n",
    "M = sum(sigma_z(i) for i in range(N)) / N\n",
    "M2 = M * M\n",
    "\n",
    "print(\"Exact magnetization for h=0.0:\", state0 @ M2 @ state0)\n",
    "print(\"Exact magnetization for h=1.0:\", state1 @ M2 @ state1)\n",
    "print(\"Exact magnetization for h=2.0:\", state2 @ M2 @ state2)\n",
    "\n",
    "print(\"Sampled magnetization for h=0.0:\", M2.expectation(state0, samples0))\n",
    "print(\"Sampled magnetization for h=1.0:\", M2.expectation(state1, samples1))\n",
    "print(\"Sampled magnetization for h=2.0:\", M2.expectation(state2, samples2))"
   ]
  },
  {
   "cell_type": "markdown",
   "id": "91007ced",
   "metadata": {},
   "source": [
    "One can also show snapshots from generated samples."
   ]
  },
  {
   "cell_type": "code",
   "execution_count": 5,
   "id": "81222beb",
   "metadata": {},
   "outputs": [
    {
     "data": {
      "image/png": "[encoded data removed]",
      "text/plain": [
       "<Figure size 900x300 with 3 Axes>"
      ]
     },
     "metadata": {},
     "output_type": "display_data"
    }
   ],
   "source": [
    "fig, axes = plt.subplots(1, 3, figsize=(9, 3))\n",
    "\n",
    "axes[0].imshow(samples0.spins[0].reshape(4, 4))\n",
    "axes[0].axis('off')\n",
    "axes[0].set_title(\"h=0.0\")\n",
    "\n",
    "axes[1].imshow(samples1.spins[0].reshape(4, 4))\n",
    "axes[1].axis('off')\n",
    "axes[1].set_title(\"h=1.0\")\n",
    "\n",
    "axes[2].imshow(samples2.spins[0].reshape(4, 4))\n",
    "axes[2].axis('off')\n",
    "axes[2].set_title(\"h=2.0\")\n",
    "\n",
    "plt.show()"
   ]
  },
  {
   "cell_type": "markdown",
   "id": "c6d4a81d",
   "metadata": {},
   "source": [
    "## Metropolis sampler\n",
    "\n",
    "`ExactSampler` in general cannot be used in large systems, in which case we need metropolis samplers. Below we show how to create a `LocalFlip` sampler, which proposes new spin configurations by flipping spins locally."
   ]
  },
  {
   "cell_type": "code",
   "execution_count": 6,
   "id": "5f41b709",
   "metadata": {},
   "outputs": [],
   "source": [
    "sampler0 = qtx.sampler.LocalFlip(state0, nsamples=1024)\n",
    "sampler1 = qtx.sampler.LocalFlip(state1, nsamples=1024)\n",
    "sampler2 = qtx.sampler.LocalFlip(state2, nsamples=1024)"
   ]
  },
  {
   "cell_type": "markdown",
   "id": "c341d5fd",
   "metadata": {},
   "source": [
    "You might notice that it takes some time to construct the Metropolis sampler. It's because the spins stored in the sampler are thermalized during initialization. You can manually set an argument `thermal_steps=0` to initialize without thermalization, but it might lead to worse sample quality.\n",
    "\n",
    "The magnetization can be measured similarly."
   ]
  },
  {
   "cell_type": "code",
   "execution_count": 7,
   "id": "d7c00ab6",
   "metadata": {},
   "outputs": [
    {
     "name": "stdout",
     "output_type": "stream",
     "text": [
      "Exact magnetization for h=0.0: 0.9399276867036594\n",
      "Exact magnetization for h=1.0: 0.2938840311110153\n",
      "Exact magnetization for h=2.0: 0.07887022721918291\n",
      "Sampled magnetization for h=0.0: 0.9444122314453125\n",
      "Sampled magnetization for h=1.0: 0.2957763671875\n",
      "Sampled magnetization for h=2.0: 0.0846405029296875\n"
     ]
    }
   ],
   "source": [
    "samples0 = sampler0.sweep()\n",
    "samples1 = sampler1.sweep()\n",
    "samples2 = sampler2.sweep()\n",
    "\n",
    "print(\"Exact magnetization for h=0.0:\", state0 @ M2 @ state0)\n",
    "print(\"Exact magnetization for h=1.0:\", state1 @ M2 @ state1)\n",
    "print(\"Exact magnetization for h=2.0:\", state2 @ M2 @ state2)\n",
    "\n",
    "print(\"Sampled magnetization for h=0.0:\", M2.expectation(state0, samples0))\n",
    "print(\"Sampled magnetization for h=1.0:\", M2.expectation(state1, samples1))\n",
    "print(\"Sampled magnetization for h=2.0:\", M2.expectation(state2, samples2))"
   ]
  },
  {
   "cell_type": "markdown",
   "id": "f73e9b3d",
   "metadata": {},
   "source": [
    "By default, the initial thermalization takes 20 * N updates, and each sweep takes 2 * N updates. This is an empirical balance between efficiency and reliability. For better thermalization, one can specify `thermal_steps` and `sweep_steps` arguments in the initialization.\n",
    "\n",
    "One can also customize metropolis samplers by an inheritance of `qtx.sampler.Metropolis`. Here we show an example of defining a sampler that flips all spins in a lattice."
   ]
  },
  {
   "cell_type": "code",
   "execution_count": null,
   "id": "623f7a85",
   "metadata": {},
   "outputs": [],
   "source": [
    "from functools import partial\n",
    "\n",
    "\n",
    "class FlipLattice(qtx.sampler.Metropolis):\n",
    "\n",
    "    @partial(jax.jit, static_argnames=(\"self\",))\n",
    "    def _propose(self, key: jax.random.PRNGKey, old_spins: jax.Array):\n",
    "        ratio = jnp.ones(old_spins.shape[0])\n",
    "        new_spins = -old_spins\n",
    "        return new_spins, ratio"
   ]
  },
  {
   "cell_type": "markdown",
   "id": "07ee768a",
   "metadata": {},
   "source": [
    "The ratio here is the ratio of proposal probabilities\n",
    "\n",
    "$$\n",
    "r = \\frac{P(s|s')}{P(s'|s)},\n",
    "$$\n",
    "\n",
    "which is usually set to 1. The proposed `new_spins` will be accepted by acceptance rate \n",
    "\n",
    "$$\n",
    "A(s'|s) = \\min(r \\frac{|\\psi(s')|^2}{|\\psi(s)|^2}, 1)\n",
    "$$\n",
    "\n",
    "such that the Monte Carlo samples have probability $\\propto |\\psi|^2$.\n",
    "\n",
    "The sampler we just defined is obviously not ergodic. To make it work, we want to conbine it with `LocalFlip`. This can be done as shown below."
   ]
  },
  {
   "cell_type": "code",
   "execution_count": 9,
   "id": "0859e337",
   "metadata": {},
   "outputs": [],
   "source": [
    "sampler_local = qtx.sampler.LocalFlip(state1, nsamples=896, thermal_steps=0)\n",
    "sampler_global = FlipLattice(state1, nsamples=128, thermal_steps=0)\n",
    "sampler_mix = qtx.sampler.MixSampler([sampler_local, sampler_global])"
   ]
  },
  {
   "cell_type": "markdown",
   "id": "b8a66c96",
   "metadata": {},
   "source": [
    "`sampler_mix` generates 896+128=1024 samples per sweep. In each proposal, 896 of 1024 spin configurations are updated by `LocalFlip`, and 128 of them are updated by `FlipLattice`. Here we check the magnetization to verify that the generated samples are still correct."
   ]
  },
  {
   "cell_type": "code",
   "execution_count": 10,
   "id": "99f750f4",
   "metadata": {},
   "outputs": [
    {
     "name": "stdout",
     "output_type": "stream",
     "text": [
      "Exact magnetization for h=1.0: 0.2938840311110153\n",
      "Sampled magnetization for h=1.0: 0.2957763671875\n"
     ]
    }
   ],
   "source": [
    "samples = sampler_mix.sweep()\n",
    "\n",
    "print(\"Exact magnetization for h=1.0:\", state1 @ M2 @ state1)\n",
    "print(\"Sampled magnetization for h=1.0:\", M2.expectation(state1, samples1))"
   ]
  }
 ],
 "metadata": {
  "kernelspec": {
   "display_name": "quantax_env",
   "language": "python",
   "name": "python3"
  },
  "language_info": {
   "codemirror_mode": {
    "name": "ipython",
    "version": 3
   },
   "file_extension": ".py",
   "mimetype": "text/x-python",
   "name": "python",
   "nbconvert_exporter": "python",
   "pygments_lexer": "ipython3",
   "version": "3.12.3"
  }
 },
 "nbformat": 4,
 "nbformat_minor": 5
}
