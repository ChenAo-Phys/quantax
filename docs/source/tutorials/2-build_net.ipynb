{
 "cells": [
  {
   "cell_type": "markdown",
   "id": "ec93cc15",
   "metadata": {},
   "source": [
    "# Build your network\n",
    "\n",
    "Variational wavefunctions in Quantax are built on [Equinox](https://github.com/patrick-kidger/equinox).\n",
    "In this tutorial, we will introduce how to build your network on Equinox, and how to test the performance of your network in Quantax."
   ]
  },
  {
   "cell_type": "code",
   "execution_count": null,
   "id": "52c1c7c0",
   "metadata": {},
   "outputs": [],
   "source": [
    "import jax\n",
    "import jax.numpy as jnp\n",
    "import jax.random as jr\n",
    "import quantax as qtx\n",
    "import matplotlib.pyplot as plt\n",
    "\n",
    "L = 8"
   ]
  },
  {
   "cell_type": "markdown",
   "id": "503dc060",
   "metadata": {},
   "source": [
    "## Equinox quick start\n",
    "\n",
    "Equinox is a minimalist neural network library built directly on top of JAX. Unlike Flax and Haiku, which come with higher-level abstractions, Equinox emphasizes flexibility and transparency: everything is just PyTrees and functions, making it easy to integrate with raw JAX code. This means you don’t fight against the framework when experimenting with unconventional architectures, physics-inspired models, or custom training loops.\n",
    "\n",
    "A customized Equinox network is usually like this."
   ]
  },
  {
   "cell_type": "code",
   "execution_count": 2,
   "id": "dd8c8496",
   "metadata": {},
   "outputs": [
    {
     "name": "stdout",
     "output_type": "stream",
     "text": [
      "Linear(weight=f64[3,2], bias=f64[3])\n"
     ]
    }
   ],
   "source": [
    "import equinox as eqx\n",
    "\n",
    "class Linear(eqx.Module):\n",
    "    weight: jax.Array\n",
    "    bias: jax.Array\n",
    "\n",
    "    def __init__(self, in_size, out_size, key):\n",
    "        wkey, bkey = jr.split(key)\n",
    "        self.weight = jr.normal(wkey, (out_size, in_size))\n",
    "        self.bias = jr.normal(bkey, (out_size,))\n",
    "\n",
    "    def __call__(self, x):\n",
    "        return self.weight @ x + self.bias\n",
    "    \n",
    "key = jr.key(0)\n",
    "linear = Linear(2, 3, key)\n",
    "print(linear)"
   ]
  },
  {
   "cell_type": "markdown",
   "id": "4f9368ed",
   "metadata": {},
   "source": [
    "`eqx.Module` has two important properties.\n",
    "\n",
    "1. It's a PyTree. In this example, `weight` and `bias` are leaves on this PyTree."
   ]
  },
  {
   "cell_type": "code",
   "execution_count": 3,
   "id": "1163466a",
   "metadata": {},
   "outputs": [
    {
     "name": "stdout",
     "output_type": "stream",
     "text": [
      "weight: [[ 1.88002989 -0.48121497]\n",
      " [ 0.41545723  2.38184008]\n",
      " [-0.57536705 -0.37054353]]\n",
      "bias: [-1.4008841  1.432145   0.6248107]\n",
      "Flattened leaves: [Array([[ 1.88002989, -0.48121497],\n",
      "       [ 0.41545723,  2.38184008],\n",
      "       [-0.57536705, -0.37054353]], dtype=float64), Array([-1.4008841,  1.432145 ,  0.6248107], dtype=float64)]\n"
     ]
    }
   ],
   "source": [
    "print(\"weight:\", linear.weight)\n",
    "print(\"bias:\", linear.bias)\n",
    "\n",
    "vals, treedef = jax.tree.flatten(linear)\n",
    "print(\"Flattened leaves:\", vals)"
   ]
  },
  {
   "cell_type": "markdown",
   "id": "f298ef4c",
   "metadata": {},
   "source": [
    "2. It's callable, since the `__call__` method is defined in this object."
   ]
  },
  {
   "cell_type": "code",
   "execution_count": 4,
   "id": "6037fbd3",
   "metadata": {},
   "outputs": [
    {
     "name": "stdout",
     "output_type": "stream",
     "text": [
      "outputs: [-0.48328416  6.61128238 -0.69164342]\n",
      "jitted outputs: [-0.48328416  6.61128238 -0.69164342]\n",
      "jacobian: Linear(weight=f64[3,3,2], bias=f64[3,3])\n"
     ]
    }
   ],
   "source": [
    "inputs = jnp.array([1.0, 2.0])\n",
    "outputs = linear(inputs)\n",
    "\n",
    "jitted_fn = jax.jit(lambda linear, x: linear(x))  # linear is jittable as it's a PyTree\n",
    "jitted_outputs = jitted_fn(linear, inputs)\n",
    "jacobian = jax.jacrev(jitted_fn)(linear, inputs)\n",
    "\n",
    "print(\"outputs:\", outputs)\n",
    "print(\"jitted outputs:\", jitted_outputs)\n",
    "print(\"jacobian:\", jacobian)"
   ]
  },
  {
   "cell_type": "markdown",
   "id": "1a0e188d",
   "metadata": {},
   "source": [
    "Apart from that, Equinox provides convenient filtered functions like `filter_jit` for PyTree. It's similar to `jax.jit` but available for PyTree with non-jittable leaves. See the code below for example. In Quantax, we use these filtered functions for better flexibility."
   ]
  },
  {
   "cell_type": "code",
   "execution_count": 5,
   "id": "633e7bd4",
   "metadata": {},
   "outputs": [
    {
     "name": "stdout",
     "output_type": "stream",
     "text": [
      "`jax.jit` failed due to non-jittable string data type in the list.\n",
      "Summation:  10.0\n",
      "`jax.grad` failed due to non-jittable string data type in the list.\n",
      "Gradient:  [None, None, Array([1., 1.], dtype=float64), None, Array([1., 1.], dtype=float64)]\n"
     ]
    }
   ],
   "source": [
    "def summation(l):\n",
    "    return sum(jnp.sum(x) for x in l if isinstance(x, jax.Array))\n",
    "\n",
    "l = [1, 2.0, jnp.array([1.0, 2.0]), \"string\", jnp.array([3.0, 4.0])]\n",
    "\n",
    "try:\n",
    "    out = jax.jit(summation)(l)\n",
    "except TypeError as e:\n",
    "    print(\"`jax.jit` failed due to non-jittable string data type in the list.\")\n",
    "\n",
    "out = eqx.filter_jit(summation)(l)\n",
    "print(\"Summation: \", out)\n",
    "\n",
    "try:\n",
    "    g = jax.grad(summation)(l)\n",
    "except TypeError as e:\n",
    "    print(\"`jax.grad` failed due to non-jittable string data type in the list.\")\n",
    "\n",
    "g = eqx.filter_grad(summation)(l)\n",
    "print(\"Gradient: \", g)"
   ]
  },
  {
   "cell_type": "markdown",
   "id": "bf06c9d4",
   "metadata": {},
   "source": [
    "## Build wavefunction\n",
    "\n",
    "Let's start by building the following variational wavefunction\n",
    "\n",
    "$$\n",
    "x^{(1)} = \\mathrm{ReLU}(W^{(1)} s + b^{(1)}) \\\\\n",
    "x^{(2)} = W^{(2)} x^{(1)} + b^{(2)} \\\\\n",
    "\\psi = \\sum \\exp(x^{(2)})\n",
    "$$\n",
    "where the network has an array input $s$ and a scalar output $\\psi$, and $W^{(1)}$, $b^{(1)}$, $W^{(2)}$, and $b^{(2)}$ are variational parameters."
   ]
  },
  {
   "cell_type": "code",
   "execution_count": 6,
   "id": "41f4d5f5",
   "metadata": {},
   "outputs": [
    {
     "name": "stdout",
     "output_type": "stream",
     "text": [
      "MyModel(\n",
      "  layer1=Linear(\n",
      "    weight=f64[16,8],\n",
      "    bias=f64[16],\n",
      "    in_features=8,\n",
      "    out_features=16,\n",
      "    use_bias=True\n",
      "  ),\n",
      "  layer2=Linear(\n",
      "    weight=f64[16,16],\n",
      "    bias=f64[16],\n",
      "    in_features=16,\n",
      "    out_features=16,\n",
      "    use_bias=True\n",
      "  )\n",
      ")\n"
     ]
    }
   ],
   "source": [
    "import equinox as eqx\n",
    "\n",
    "class MyModel(eqx.Module):\n",
    "    layer1: eqx.nn.Linear  # The PyTree leaves can be another Equinox module\n",
    "    layer2: eqx.nn.Linear\n",
    "\n",
    "    def __init__(self, in_size: int, width: int):\n",
    "        keys = qtx.get_subkeys(2)  # Convenient function in Quantax to provide keys\n",
    "        layer1 = eqx.nn.Linear(in_size, width, key=keys[0])\n",
    "        self.layer1 = qtx.nn.apply_he_normal(keys[0], layer1)  # He initialization\n",
    "        layer2 = eqx.nn.Linear(width, width, key=keys[1])\n",
    "        self.layer2 = qtx.nn.apply_lecun_normal(keys[1], layer2)  # LeCun initialization\n",
    "\n",
    "    def __call__(self, x):\n",
    "        x = jax.nn.relu(self.layer1(x))\n",
    "        x = self.layer2(x)\n",
    "        psi = jnp.sum(jnp.exp(x))\n",
    "        return psi\n",
    "\n",
    "model = MyModel(in_size=L, width=16)\n",
    "print(model)"
   ]
  },
  {
   "cell_type": "markdown",
   "id": "f3f0ab65",
   "metadata": {},
   "source": [
    "We can test it by making a forward pass."
   ]
  },
  {
   "cell_type": "code",
   "execution_count": 7,
   "id": "36df2edf",
   "metadata": {},
   "outputs": [
    {
     "name": "stdout",
     "output_type": "stream",
     "text": [
      "psi = 25.80643431025371\n"
     ]
    }
   ],
   "source": [
    "s = jnp.ones(L)\n",
    "psi = model(s)\n",
    "print(\"psi =\", psi)"
   ]
  },
  {
   "cell_type": "markdown",
   "id": "80fb5455",
   "metadata": {},
   "source": [
    "Now let's use this new network in Quantax. One should wrap the network by `qtx.state.Variational` to use it as a variational state. It supports batched forward pass."
   ]
  },
  {
   "cell_type": "code",
   "execution_count": 8,
   "id": "2914ef8d",
   "metadata": {},
   "outputs": [
    {
     "name": "stdout",
     "output_type": "stream",
     "text": [
      "Number of parameters: 416\n",
      "psi = [32.53068691 27.79913187 15.22629544 19.97114671 34.05009489 15.61717887\n",
      " 22.10967177 21.51156317]\n"
     ]
    }
   ],
   "source": [
    "lattice = qtx.sites.Chain(L)\n",
    "state = qtx.state.Variational(model)\n",
    "\n",
    "print(\"Number of parameters:\", state.nparams)\n",
    "\n",
    "s = qtx.utils.rand_states(8)  # 8 random spin configurations\n",
    "psi = state(s)  # Batched forward pass\n",
    "print(\"psi =\", psi)"
   ]
  },
  {
   "cell_type": "markdown",
   "id": "f7995f5d",
   "metadata": {},
   "source": [
    "## Test by exact reconfiguration\n",
    "\n",
    "Exact reconfiguration (ER) is an optimization method that approximates imaginary-time evolution without Monte Carlo samples, which is only available in small systems. We can use it to rapidly test the expressive power of neural networks."
   ]
  },
  {
   "cell_type": "code",
   "execution_count": 9,
   "id": "6e01ed7c",
   "metadata": {},
   "outputs": [
    {
     "data": {
      "image/png": "[encoded data removed]",
      "text/plain": [
       "<Figure size 640x480 with 1 Axes>"
      ]
     },
     "metadata": {},
     "output_type": "display_data"
    }
   ],
   "source": [
    "H = qtx.operator.Ising(h=1.0)\n",
    "E, wf = H.diagonalize()\n",
    "exact_state = qtx.state.DenseState(wf)\n",
    "\n",
    "optimizer = qtx.optimizer.ER(state, H)\n",
    "\n",
    "energy = qtx.utils.DataTracer()\n",
    "training_rate = 0.02\n",
    "\n",
    "for i in range(100):\n",
    "    step = optimizer.get_step()\n",
    "    state.update(step * training_rate)\n",
    "    energy.append(optimizer.energy)\n",
    "\n",
    "energy.plot(baseline=E)\n",
    "plt.show()"
   ]
  },
  {
   "cell_type": "code",
   "execution_count": 10,
   "id": "ef0d7c00",
   "metadata": {},
   "outputs": [],
   "source": [
    "dense = state.todense()\n",
    "H_psi = H @ dense\n",
    "energy = dense @ H_psi\n",
    "Ebar = H_psi - dense * energy"
   ]
  },
  {
   "cell_type": "markdown",
   "id": "abc51f2c",
   "metadata": {},
   "source": [
    "In small systems, you can transform `Variational` to `DenseState` to check its overlap with the exact ground state."
   ]
  },
  {
   "cell_type": "code",
   "execution_count": 11,
   "id": "fdcb03f7",
   "metadata": {},
   "outputs": [
    {
     "name": "stdout",
     "output_type": "stream",
     "text": [
      "Overlap with the exact ground state: 0.9988871399415886\n"
     ]
    }
   ],
   "source": [
    "dense = state.todense().normalize()\n",
    "overlap = abs(dense @ exact_state)\n",
    "print(\"Overlap with the exact ground state:\", overlap)"
   ]
  },
  {
   "cell_type": "markdown",
   "id": "d76a5dae",
   "metadata": {},
   "source": [
    "Now we have a nice neural quantum state for solving the Ising model!"
   ]
  },
  {
   "cell_type": "markdown",
   "id": "5eb3f108",
   "metadata": {},
   "source": [
    "## Avoid overflow\n",
    "\n",
    "In neural quantum state simulations, we often have very large wavefunctions beyond the range of float64. Here is an example."
   ]
  },
  {
   "cell_type": "code",
   "execution_count": 12,
   "id": "dbe7152c",
   "metadata": {},
   "outputs": [
    {
     "data": {
      "text/plain": [
       "Array(inf, dtype=float64)"
      ]
     },
     "execution_count": 12,
     "metadata": {},
     "output_type": "execute_result"
    }
   ],
   "source": [
    "model = MyModel(in_size=L, width=16)\n",
    "\n",
    "W1 = model.layer1.weight\n",
    "W2 = model.layer2.weight\n",
    "\n",
    "# Manually multiply weights by 100 to cause overflow\n",
    "model = eqx.tree_at(lambda model: model.layer1.weight, model, W1 * 100)\n",
    "model = eqx.tree_at(lambda model: model.layer2.weight, model, W2 * 100)\n",
    "\n",
    "s = qtx.utils.rand_states()\n",
    "model(s)"
   ]
  },
  {
   "cell_type": "markdown",
   "id": "27b63c60",
   "metadata": {},
   "source": [
    "To avoid this problem, we define two customized data types, `qtx.utils.LogArray` and `qtx.utils.ScaleArray`, to store large values. They are also accepted as network outputs in Quantax. Instead of using dangerous functions like `jnp.exp` that might cause overflow, one can use `qtx.nn.exp_by_scale` to output safe values expressed by `qtx.utils.ScaleArray`."
   ]
  },
  {
   "cell_type": "code",
   "execution_count": 13,
   "id": "72d26ff7",
   "metadata": {},
   "outputs": [
    {
     "name": "stdout",
     "output_type": "stream",
     "text": [
      "ScaleArray(\n",
      "  significand=1.0,\n",
      "  exponent=15694.038701452482\n",
      ")\n"
     ]
    }
   ],
   "source": [
    "class NewModel(eqx.Module):\n",
    "    layer1: eqx.nn.Linear\n",
    "    layer2: eqx.nn.Linear\n",
    "\n",
    "    def __init__(self, in_size: int, width: int):\n",
    "        keys = qtx.get_subkeys(2)\n",
    "        layer1 = eqx.nn.Linear(in_size, width, key=keys[0])\n",
    "        self.layer1 = qtx.nn.apply_he_normal(keys[0], layer1)\n",
    "        layer2 = eqx.nn.Linear(width, width, key=keys[1])\n",
    "        self.layer2 = qtx.nn.apply_lecun_normal(keys[1], layer2)\n",
    "\n",
    "    def __call__(self, x):\n",
    "        x = jax.nn.relu(self.layer1(x))\n",
    "        x = self.layer2(x)\n",
    "        # Dangerous: psi = jnp.sum(jnp.exp(x))\n",
    "        # Safe:\n",
    "        psi = qtx.nn.exp_by_scale(x).sum()\n",
    "        return psi\n",
    "    \n",
    "\n",
    "model = NewModel(in_size=L, width=16)\n",
    "model = eqx.tree_at(lambda model: model.layer1.weight, model, W1 * 100)\n",
    "model = eqx.tree_at(lambda model: model.layer2.weight, model, W2 * 100)\n",
    "\n",
    "psi = model(s)\n",
    "print(psi)"
   ]
  },
  {
   "cell_type": "markdown",
   "id": "d9ddaa0b",
   "metadata": {},
   "source": [
    "Here the output `ScaleArray` is a PyTree with significand $x$ and exponent $\\theta$. The true expressed value is $x e^\\theta$, which is beyond the range of float64. In most calculations, this quantity can be treated like an ordinary array object, as shown below."
   ]
  },
  {
   "cell_type": "code",
   "execution_count": 14,
   "id": "8b4044be",
   "metadata": {},
   "outputs": [
    {
     "name": "stdout",
     "output_type": "stream",
     "text": [
      "Reshape psi: ScaleArray(\n",
      "  significand=[[1. 1. 1. 1.]\n",
      " [1. 1. 1. 1.]],\n",
      "  exponent=[[15694.03870145 15694.03870145 15694.03870145 15694.03870145]\n",
      " [15694.03870145 15694.03870145 15694.03870145 15694.03870145]]\n",
      ")\n",
      "Sum psi: ScaleArray(\n",
      "  significand=[4. 4.],\n",
      "  exponent=15694.038701452482\n",
      ")\n",
      "Power psi: ScaleArray(\n",
      "  significand=[1.00013864 1.00013864],\n",
      "  exponent=1.5694038701452484\n",
      ")\n",
      "To jax Array: [4.80444965 4.80444965]\n"
     ]
    }
   ],
   "source": [
    "psi = psi.repeat(8).reshape(2, 4)\n",
    "print(\"Reshape psi:\", psi)\n",
    "\n",
    "psi = psi.sum(axis=1)\n",
    "print(\"Sum psi:\", psi)\n",
    "\n",
    "psi = psi ** (1 / 10000)\n",
    "print(\"Power psi:\", psi)\n",
    "\n",
    "psi = jnp.asarray(psi)\n",
    "print(\"To jax Array:\", psi)"
   ]
  },
  {
   "cell_type": "markdown",
   "id": "60552d11",
   "metadata": {},
   "source": [
    "However, JAX doesn't have a full support for [customized arrays](https://docs.jax.dev/en/latest/jep/28661-jax-array-protocol.html), so one should be careful when using these customized arrays. Here we list several possible problems.\n",
    "\n",
    "1. Manipulations like `jnp.fn(array)` transform customized arrays to `jax.Array`, causing overflow. To avoid it, call `array.fn()`.\n",
    "\n",
    "2. Computations like `jax_array * customized_array` always call `jax_array.__mul__(customized_array)`, which returns a `jax.Array` that might cause overflow. To avoid it, use `customized_array * jax_array`.\n",
    "\n",
    "Here are some examples"
   ]
  },
  {
   "cell_type": "code",
   "execution_count": 15,
   "id": "d2366af8",
   "metadata": {},
   "outputs": [
    {
     "name": "stdout",
     "output_type": "stream",
     "text": [
      "Wrong sum: nan\n",
      "Correct sum: ScaleArray(\n",
      "  significand=6.0,\n",
      "  exponent=10000.0\n",
      ")\n",
      "Wrong mul: [nan inf inf inf]\n",
      "Correct mul: ScaleArray(\n",
      "  significand=[0.         0.33333333 1.33333333 3.        ],\n",
      "  exponent=10001.098612288668\n",
      ")\n"
     ]
    }
   ],
   "source": [
    "significand = jnp.array([0.0, 1.0, 2.0, 3.0])\n",
    "exponent = jnp.array(10000.0)\n",
    "psi = qtx.utils.ScaleArray(significand, exponent)\n",
    "\n",
    "print(\"Wrong sum:\", jnp.sum(psi))\n",
    "print(\"Correct sum:\", psi.sum())\n",
    "\n",
    "a = jnp.arange(4)\n",
    "print(\"Wrong mul:\", a * psi)\n",
    "print(\"Correct mul:\", psi * a)"
   ]
  },
  {
   "cell_type": "markdown",
   "id": "cd3a2e75",
   "metadata": {},
   "source": [
    "The new network with `ScaleArray` outputs also works with Quantax."
   ]
  },
  {
   "cell_type": "code",
   "execution_count": 21,
   "id": "0b20594b",
   "metadata": {},
   "outputs": [
    {
     "data": {
      "image/png": "[encoded data removed]",
      "text/plain": [
       "<Figure size 640x480 with 1 Axes>"
      ]
     },
     "metadata": {},
     "output_type": "display_data"
    }
   ],
   "source": [
    "model = NewModel(in_size=L, width=16)\n",
    "state = qtx.state.Variational(model)\n",
    "optimizer = qtx.optimizer.ER(state, H)\n",
    "\n",
    "energy = qtx.utils.DataTracer()\n",
    "training_rate = 0.02\n",
    "\n",
    "for i in range(100):\n",
    "    step = optimizer.get_step()\n",
    "    state.update(step * training_rate)\n",
    "    energy.append(optimizer.energy)\n",
    "\n",
    "energy.plot(baseline=E)\n",
    "plt.show()"
   ]
  }
 ],
 "metadata": {
  "kernelspec": {
   "display_name": "quantax_env",
   "language": "python",
   "name": "python3"
  },
  "language_info": {
   "codemirror_mode": {
    "name": "ipython",
    "version": 3
   },
   "file_extension": ".py",
   "mimetype": "text/x-python",
   "name": "python",
   "nbconvert_exporter": "python",
   "pygments_lexer": "ipython3",
   "version": "3.12.11"
  }
 },
 "nbformat": 4,
 "nbformat_minor": 5
}
