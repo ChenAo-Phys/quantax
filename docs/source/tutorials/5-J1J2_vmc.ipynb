{
 "cells": [
  {
   "cell_type": "markdown",
   "id": "a01a167a",
   "metadata": {},
   "source": [
    "# J1-J2 model\n",
    "\n",
    "In this tutorial, we use neural quantum states and variational Monte Carlo to study the J1-J2 Heisenberg model.\n",
    "\n",
    "## System definition\n",
    "\n",
    "We will work on the 4x4 lattice. Due to the spin conservation in the Heisenberg interactions, we limit the number of both up and down spins to 8."
   ]
  },
  {
   "cell_type": "code",
   "execution_count": 2,
   "id": "847bdc40",
   "metadata": {},
   "outputs": [],
   "source": [
    "import os\n",
    "\n",
    "os.environ[\"CUDA_VISIBLE_DEVICES\"] = \"0\"\n",
    "os.environ[\"XLA_PYTHON_CLIENT_PREALLOCATE\"] = \"false\"\n",
    "\n",
    "import numpy as np\n",
    "import matplotlib.pyplot as plt\n",
    "import jax.numpy as jnp\n",
    "import quantax as qtx\n",
    "\n",
    "# 4x4 square lattice, 8 spin-up, 8 spin-down\n",
    "lattice = qtx.sites.Square(4, Nparticles=(8, 8))\n",
    "N = lattice.Nsites"
   ]
  },
  {
   "cell_type": "markdown",
   "id": "da1ca2e7",
   "metadata": {},
   "source": [
    "The Hamiltonian is\n",
    "\n",
    "$$\n",
    "H = J_1 \\sum_{\\braket{ij}} \\mathbf{\\sigma}_i \\cdot \\mathbf{\\sigma}_j\n",
    "+ J_2 \\sum_{\\braket{\\braket{ij}}} \\mathbf{\\sigma}_i \\cdot \\mathbf{\\sigma}_j,\n",
    "$$\n",
    "\n",
    "where $\\braket{ij}$ and $\\braket{\\braket{ij}}$ represent nearest and next-nearest neighbors, respectively. \n",
    "\n",
    "Quantax provides a helper function to define this Hamiltonian as shown below."
   ]
  },
  {
   "cell_type": "code",
   "execution_count": 4,
   "id": "2faf7eb7",
   "metadata": {},
   "outputs": [],
   "source": [
    "H = qtx.operator.Heisenberg(J=[1, 0.5], n_neighbor=[1, 2], msr=True)"
   ]
  },
  {
   "cell_type": "markdown",
   "id": "e84f1727",
   "metadata": {},
   "source": [
    "In this function, we define $J_1 = 1$ and $J_2 = 0.5$. The neighbors are determined by the distance of spins in real space. With `msr=True`, the function returns a Hamiltonian corrected by Marshall sign rule (MSR), which is equivalent to the original J1-J2 model but has simpler sign structures.\n",
    "\n",
    "In this small lattice, one can use exact diagonalization to obtain the reference energy."
   ]
  },
  {
   "cell_type": "code",
   "execution_count": 6,
   "id": "bfa40131",
   "metadata": {},
   "outputs": [
    {
     "name": "stdout",
     "output_type": "stream",
     "text": [
      "Exact ground state energy: -33.831693405579394\n"
     ]
    }
   ],
   "source": [
    "E, wf = H.diagonalize()\n",
    "print(f\"Exact ground state energy: {E[0]}\")"
   ]
  },
  {
   "cell_type": "markdown",
   "id": "99979da0",
   "metadata": {},
   "source": [
    "## Variational state\n",
    "\n"
   ]
  }
 ],
 "metadata": {
  "kernelspec": {
   "display_name": "quantax_env",
   "language": "python",
   "name": "python3"
  },
  "language_info": {
   "codemirror_mode": {
    "name": "ipython",
    "version": 3
   },
   "file_extension": ".py",
   "mimetype": "text/x-python",
   "name": "python",
   "nbconvert_exporter": "python",
   "pygments_lexer": "ipython3",
   "version": "3.12.11"
  }
 },
 "nbformat": 4,
 "nbformat_minor": 5
}
