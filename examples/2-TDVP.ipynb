{
 "cells": [
  {
   "cell_type": "markdown",
   "id": "cbea5f41",
   "metadata": {},
   "source": [
    "# Time-dependent variational principle\n",
    "\n",
    "Paper title: Quantum Many-Body Dynamics in Two Dimensions with Artificial Neural Networks\n",
    "\n",
    "Paper authors: Markus Schmitt and Markus Heyl\n",
    "\n",
    "[arXiv:1912.08828 (2019)](https://arxiv.org/abs/1912.08828)\n",
    "\n",
    "[Phys. Rev. Lett. 125, 100503 (2020)](https://journals.aps.org/prl/abstract/10.1103/PhysRevLett.125.100503)"
   ]
  }
 ],
 "metadata": {
  "language_info": {
   "name": "python"
  }
 },
 "nbformat": 4,
 "nbformat_minor": 5
}
